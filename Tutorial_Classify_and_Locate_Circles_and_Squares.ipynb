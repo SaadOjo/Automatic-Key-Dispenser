{
  "nbformat": 4,
  "nbformat_minor": 0,
  "metadata": {
    "colab": {
      "name": "Tutorial: Classify and Locate Circles and Squares",
      "provenance": [],
      "collapsed_sections": [],
      "authorship_tag": "ABX9TyPVIfi+sUhNntW1lU96ELOK",
      "include_colab_link": true
    },
    "kernelspec": {
      "name": "python3",
      "display_name": "Python 3"
    }
  },
  "cells": [
    {
      "cell_type": "markdown",
      "metadata": {
        "id": "view-in-github",
        "colab_type": "text"
      },
      "source": [
        "<a href=\"https://colab.research.google.com/github/SaadOjo/Automatic-Key-Dispenser/blob/master/Tutorial_Classify_and_Locate_Circles_and_Squares.ipynb\" target=\"_parent\"><img src=\"https://colab.research.google.com/assets/colab-badge.svg\" alt=\"Open In Colab\"/></a>"
      ]
    },
    {
      "cell_type": "code",
      "metadata": {
        "id": "RWSJpsyKqHjH",
        "outputId": "3b6b5bdd-bc7a-4b1c-a769-dca0492ef33e",
        "colab": {
          "base_uri": "https://localhost:8080/",
          "height": 33
        }
      },
      "source": [
        "from google.colab import drive\n",
        "drive.mount('/content/drive')"
      ],
      "execution_count": 8,
      "outputs": [
        {
          "output_type": "stream",
          "text": [
            "Mounted at /content/drive\n"
          ],
          "name": "stdout"
        }
      ]
    },
    {
      "cell_type": "code",
      "metadata": {
        "id": "1LLRJLuBY65f"
      },
      "source": [
        "import numpy as np\n",
        "from matplotlib import pyplot as plt\n",
        "import cv2\n",
        "\n",
        "import tensorflow as tf\n",
        "from tensorflow import keras"
      ],
      "execution_count": 2,
      "outputs": []
    },
    {
      "cell_type": "code",
      "metadata": {
        "id": "cHtkR1EyRU0e"
      },
      "source": [
        "def square(img, center, width):\n",
        "  start_point = (int(center[0] - width/2), int(center[1] - width/2) )\n",
        "  end_point = (int(center[0] + width/2), int(center[1] + width/2) )\n",
        "  cv2.rectangle(img, start_point, end_point, (0,1,0), cv2.FILLED)\n"
      ],
      "execution_count": 3,
      "outputs": []
    },
    {
      "cell_type": "code",
      "metadata": {
        "id": "pYCrxD41QRTG"
      },
      "source": [
        "def generate_data(num_shapes, height, width):\n",
        "  img = np.zeros((height, width, 3))\n",
        "  label = np.zeros((height, width, 1))\n",
        "\n",
        "  for i in range(num_shapes):\n",
        "    x = int(np.random.rand()*width)\n",
        "    y = int(np.random.rand()*height)\n",
        "    if np.random.rand() > 0.5:\n",
        "      cv2.circle(img, (x,y), 50, (1,0,0), cv2.FILLED)\n",
        "      cv2.circle(label, (x,y), 10, (1,1,1), cv2.FILLED)\n",
        "    else: \n",
        "      square(img, (x,y), 50)\n",
        "  return img, label\n"
      ],
      "execution_count": 4,
      "outputs": []
    },
    {
      "cell_type": "code",
      "metadata": {
        "id": "95EYf9SPSrjo"
      },
      "source": [
        "def show_image(img):\n",
        "  channels = img.shape[-1]\n",
        "  if channels == 1:\n",
        "    img = np.stack((img, img, img), axis=2)\n",
        "    img = img[:,:,:,0]\n",
        "  plt.imshow(img)\n",
        "  plt.savefig('/content/drive/My Drive/image2.png')"
      ],
      "execution_count": 12,
      "outputs": []
    },
    {
      "cell_type": "code",
      "metadata": {
        "id": "0Mk0XstlQ2p2",
        "outputId": "b0e599d1-3a27-4fef-cad1-8d4d584a517c",
        "colab": {
          "base_uri": "https://localhost:8080/",
          "height": 268
        }
      },
      "source": [
        "img_shape = (600, 600, 3)\n",
        "my_image, my_label = generate_data(10, img_shape[0], img_shape[1])\n",
        "show_image(my_image)"
      ],
      "execution_count": 11,
      "outputs": [
        {
          "output_type": "display_data",
          "data": {
            "image/png": "[encoded data removed]",
            "text/plain": [
              "<Figure size 432x288 with 1 Axes>"
            ]
          },
          "metadata": {
            "tags": [],
            "needs_background": "light"
          }
        }
      ]
    },
    {
      "cell_type": "code",
      "metadata": {
        "id": "bTBKlvx3UUBh",
        "outputId": "ff41da51-a712-4db1-cb8f-075b59646cf6",
        "colab": {
          "base_uri": "https://localhost:8080/",
          "height": 268
        }
      },
      "source": [
        "show_image(my_label)"
      ],
      "execution_count": 13,
      "outputs": [
        {
          "output_type": "display_data",
          "data": {
            "image/png": "[encoded data removed]",
            "text/plain": [
              "<Figure size 432x288 with 1 Axes>"
            ]
          },
          "metadata": {
            "tags": [],
            "needs_background": "light"
          }
        }
      ]
    },
    {
      "cell_type": "code",
      "metadata": {
        "id": "J9hEDlNBrCk3"
      },
      "source": [
        "plt."
      ],
      "execution_count": null,
      "outputs": []
    },
    {
      "cell_type": "code",
      "metadata": {
        "id": "aNQx4zSOtI8m"
      },
      "source": [
        "from google.colab import drive\n",
        "drive.mount('/content/drive')"
      ],
      "execution_count": null,
      "outputs": []
    }
  ]
}